{
  "nbformat": 4,
  "nbformat_minor": 0,
  "metadata": {
    "colab": {
      "name": "2021-07-02-테스트용 파일",
      "provenance": [],
      "collapsed_sections": []
    },
    "kernelspec": {
      "name": "python3",
      "display_name": "Python 3"
    },
    "language_info": {
      "name": "python"
    }
  },
  "cells": [
    {
      "cell_type": "markdown",
      "metadata": {
        "id": "2S7G7S039f4B"
      },
      "source": [
        "# \"테스트용 첫 글\"\n",
        "> \"첫 글\"\n",
        "\n",
        "- toc:true\n",
        "- branch: master\n",
        "- badges: true\n",
        "- comments: true\n",
        "- author: JiHun\n",
        "- categories: [test, jupyter]"
      ]
    },
    {
      "cell_type": "code",
      "metadata": {
        "id": "-I3k6Rrd8p9n"
      },
      "source": [
        ""
      ],
      "execution_count": null,
      "outputs": []
    },
    {
      "cell_type": "code",
      "metadata": {
        "id": "YC-Ed6ALntsr"
      },
      "source": [
        "import numpy as np\n",
        "import tensorflow as tf\n",
        "import tensorflow.keras.datasets as ds"
      ],
      "execution_count": null,
      "outputs": []
    },
    {
      "cell_type": "code",
      "metadata": {
        "id": "rNfOvQpkn6nr"
      },
      "source": [
        "from tensorflow.keras.models import Sequential\n",
        "from tensorflow.keras.layers import Dense\n",
        "from tensorflow.keras.optimizers import Adam"
      ],
      "execution_count": null,
      "outputs": []
    },
    {
      "cell_type": "code",
      "metadata": {
        "colab": {
          "base_uri": "https://localhost:8080/"
        },
        "id": "8euDUj-yoHVE",
        "outputId": "fd18221e-945d-49d5-e987-ab15fb9478eb"
      },
      "source": [
        "(x_train, y_train), (x_test, y_test) = ds.mnist.load_data()"
      ],
      "execution_count": null,
      "outputs": [
        {
          "output_type": "stream",
          "text": [
            "Downloading data from https://storage.googleapis.com/tensorflow/tf-keras-datasets/mnist.npz\n",
            "11493376/11490434 [==============================] - 0s 0us/step\n"
          ],
          "name": "stdout"
        }
      ]
    },
    {
      "cell_type": "code",
      "metadata": {
        "id": "xNqG0Rj-oMrD"
      },
      "source": [
        "x_train = x_train.reshape(60000, 784)\n",
        "x_test = x_test.reshape(10000, 784)\n",
        "\n",
        "x_train = x_train.astype(np.float32)/255.0\n",
        "x_test = x_test.astype(np.float32)/255.0\n",
        "y_train = tf.keras.utils.to_categorical(y_train, 10)\n",
        "y_test = tf.keras.utils.to_categorical(y_test, 10)"
      ],
      "execution_count": null,
      "outputs": []
    },
    {
      "cell_type": "code",
      "metadata": {
        "id": "f68gvdfHonwB"
      },
      "source": [
        "n_input = 784\n",
        "n_hidden = 1024\n",
        "n_output = 10"
      ],
      "execution_count": null,
      "outputs": []
    },
    {
      "cell_type": "code",
      "metadata": {
        "id": "g8S71t3zortp"
      },
      "source": [
        "model = Sequential()"
      ],
      "execution_count": null,
      "outputs": []
    },
    {
      "cell_type": "code",
      "metadata": {
        "id": "KXAfouCootSX"
      },
      "source": [
        "model.add(Dense(units = n_hidden, activation='tanh',input_shape = (n_input,), kernel_initializer='random_uniform'))\n",
        "model.add(Dense(units = n_output, activation='tanh', kernel_initializer='random_uniform'))"
      ],
      "execution_count": null,
      "outputs": []
    },
    {
      "cell_type": "code",
      "metadata": {
        "id": "Daki4CthpENq"
      },
      "source": [
        "model.compile(loss = 'mean_squared_error', optimizer = Adam(learning_rate=0.001), metrics = ['accuracy'])"
      ],
      "execution_count": null,
      "outputs": []
    },
    {
      "cell_type": "code",
      "metadata": {
        "colab": {
          "base_uri": "https://localhost:8080/"
        },
        "id": "fcAYDuqzpO9o",
        "outputId": "7ad00123-fa3f-43f8-e8cd-65120a8b2b8f"
      },
      "source": [
        "hist = model.fit(x_train, y_train, batch_size=128, epochs=30, validation_data = (x_test, y_test), verbose = 2)"
      ],
      "execution_count": null,
      "outputs": [
        {
          "output_type": "stream",
          "text": [
            "Epoch 1/30\n",
            "469/469 - 5s - loss: 0.0425 - accuracy: 0.8464 - val_loss: 0.0274 - val_accuracy: 0.9128\n",
            "Epoch 2/30\n",
            "469/469 - 4s - loss: 0.0222 - accuracy: 0.9288 - val_loss: 0.0179 - val_accuracy: 0.9410\n",
            "Epoch 3/30\n",
            "469/469 - 4s - loss: 0.0163 - accuracy: 0.9479 - val_loss: 0.0147 - val_accuracy: 0.9519\n",
            "Epoch 4/30\n",
            "469/469 - 4s - loss: 0.0137 - accuracy: 0.9566 - val_loss: 0.0127 - val_accuracy: 0.9573\n",
            "Epoch 5/30\n",
            "469/469 - 4s - loss: 0.0121 - accuracy: 0.9636 - val_loss: 0.0125 - val_accuracy: 0.9591\n",
            "Epoch 6/30\n",
            "469/469 - 4s - loss: 0.0109 - accuracy: 0.9676 - val_loss: 0.0111 - val_accuracy: 0.9648\n",
            "Epoch 7/30\n",
            "469/469 - 4s - loss: 0.0101 - accuracy: 0.9710 - val_loss: 0.0105 - val_accuracy: 0.9669\n",
            "Epoch 8/30\n",
            "469/469 - 4s - loss: 0.0094 - accuracy: 0.9736 - val_loss: 0.0098 - val_accuracy: 0.9686\n",
            "Epoch 9/30\n",
            "469/469 - 4s - loss: 0.0089 - accuracy: 0.9757 - val_loss: 0.0092 - val_accuracy: 0.9699\n",
            "Epoch 10/30\n",
            "469/469 - 4s - loss: 0.0084 - accuracy: 0.9771 - val_loss: 0.0102 - val_accuracy: 0.9692\n",
            "Epoch 11/30\n",
            "469/469 - 4s - loss: 0.0080 - accuracy: 0.9793 - val_loss: 0.0098 - val_accuracy: 0.9713\n",
            "Epoch 12/30\n",
            "469/469 - 4s - loss: 0.0077 - accuracy: 0.9806 - val_loss: 0.0087 - val_accuracy: 0.9714\n",
            "Epoch 13/30\n",
            "469/469 - 4s - loss: 0.0074 - accuracy: 0.9821 - val_loss: 0.0090 - val_accuracy: 0.9727\n",
            "Epoch 14/30\n",
            "469/469 - 4s - loss: 0.0071 - accuracy: 0.9829 - val_loss: 0.0086 - val_accuracy: 0.9728\n",
            "Epoch 15/30\n",
            "469/469 - 4s - loss: 0.0068 - accuracy: 0.9843 - val_loss: 0.0085 - val_accuracy: 0.9738\n",
            "Epoch 16/30\n",
            "469/469 - 4s - loss: 0.0066 - accuracy: 0.9852 - val_loss: 0.0083 - val_accuracy: 0.9735\n",
            "Epoch 17/30\n",
            "469/469 - 4s - loss: 0.0064 - accuracy: 0.9861 - val_loss: 0.0079 - val_accuracy: 0.9744\n",
            "Epoch 18/30\n",
            "469/469 - 4s - loss: 0.0062 - accuracy: 0.9868 - val_loss: 0.0084 - val_accuracy: 0.9744\n",
            "Epoch 19/30\n",
            "469/469 - 4s - loss: 0.0061 - accuracy: 0.9871 - val_loss: 0.0076 - val_accuracy: 0.9757\n",
            "Epoch 20/30\n",
            "469/469 - 4s - loss: 0.0059 - accuracy: 0.9881 - val_loss: 0.0083 - val_accuracy: 0.9770\n",
            "Epoch 21/30\n",
            "469/469 - 4s - loss: 0.0057 - accuracy: 0.9886 - val_loss: 0.0080 - val_accuracy: 0.9766\n",
            "Epoch 22/30\n",
            "469/469 - 4s - loss: 0.0056 - accuracy: 0.9889 - val_loss: 0.0077 - val_accuracy: 0.9760\n",
            "Epoch 23/30\n",
            "469/469 - 4s - loss: 0.0055 - accuracy: 0.9900 - val_loss: 0.0075 - val_accuracy: 0.9765\n",
            "Epoch 24/30\n",
            "469/469 - 4s - loss: 0.0053 - accuracy: 0.9899 - val_loss: 0.0074 - val_accuracy: 0.9766\n",
            "Epoch 25/30\n",
            "469/469 - 4s - loss: 0.0052 - accuracy: 0.9908 - val_loss: 0.0076 - val_accuracy: 0.9767\n",
            "Epoch 26/30\n",
            "469/469 - 4s - loss: 0.0051 - accuracy: 0.9911 - val_loss: 0.0074 - val_accuracy: 0.9763\n",
            "Epoch 27/30\n",
            "469/469 - 4s - loss: 0.0049 - accuracy: 0.9915 - val_loss: 0.0076 - val_accuracy: 0.9762\n",
            "Epoch 28/30\n",
            "469/469 - 4s - loss: 0.0049 - accuracy: 0.9919 - val_loss: 0.0079 - val_accuracy: 0.9769\n",
            "Epoch 29/30\n",
            "469/469 - 4s - loss: 0.0048 - accuracy: 0.9923 - val_loss: 0.0073 - val_accuracy: 0.9775\n",
            "Epoch 30/30\n",
            "469/469 - 4s - loss: 0.0047 - accuracy: 0.9924 - val_loss: 0.0075 - val_accuracy: 0.9773\n"
          ],
          "name": "stdout"
        }
      ]
    },
    {
      "cell_type": "code",
      "metadata": {
        "colab": {
          "base_uri": "https://localhost:8080/"
        },
        "id": "47xGpokxpZcF",
        "outputId": "83f1b19b-2682-47fe-ba70-7aa58ad02ba9"
      },
      "source": [
        "res = model.evaluate(x_test, y_test, verbose = 0)\n",
        "print(res)"
      ],
      "execution_count": null,
      "outputs": [
        {
          "output_type": "stream",
          "text": [
            "[0.007527506444603205, 0.9772999882698059]\n"
          ],
          "name": "stdout"
        }
      ]
    },
    {
      "cell_type": "code",
      "metadata": {
        "id": "2IyqheKBqTRt"
      },
      "source": [
        ""
      ],
      "execution_count": null,
      "outputs": []
    }
  ]
}